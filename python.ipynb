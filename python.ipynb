{
  "nbformat": 4,
  "nbformat_minor": 0,
  "metadata": {
    "colab": {
      "provenance": [],
      "authorship_tag": "ABX9TyPPbCoKnc4Wi4b8ljqeH2tJ",
      "include_colab_link": true
    },
    "kernelspec": {
      "name": "python3",
      "display_name": "Python 3"
    },
    "language_info": {
      "name": "python"
    }
  },
  "cells": [
    {
      "cell_type": "markdown",
      "metadata": {
        "id": "view-in-github",
        "colab_type": "text"
      },
      "source": [
        "<a href=\"https://colab.research.google.com/github/KathyJosephAlexander/BA_SQL/blob/main/python.ipynb\" target=\"_parent\"><img src=\"https://colab.research.google.com/assets/colab-badge.svg\" alt=\"Open In Colab\"/></a>"
      ]
    },
    {
      "cell_type": "code",
      "execution_count": 2,
      "metadata": {
        "id": "91WaOD8sY5Fx"
      },
      "outputs": [],
      "source": [
        "x=[7,85,4,44,63,32,76,54,98,5]"
      ]
    },
    {
      "cell_type": "code",
      "source": [
        "def abc(x):\n",
        "  print(sum(x))"
      ],
      "metadata": {
        "id": "Oyo-xd8Uca7c"
      },
      "execution_count": 4,
      "outputs": []
    },
    {
      "cell_type": "code",
      "source": [
        "abc(x)"
      ],
      "metadata": {
        "id": "vOu4ftFqcgAj",
        "outputId": "9a380f2f-20da-4710-c7c3-6e4d5442e48e",
        "colab": {
          "base_uri": "https://localhost:8080/",
          "height": 0
        }
      },
      "execution_count": 6,
      "outputs": [
        {
          "output_type": "stream",
          "name": "stdout",
          "text": [
            "468\n"
          ]
        }
      ]
    },
    {
      "cell_type": "code",
      "source": [
        "def odds():\n",
        "  for k in x:\n",
        "    if k % 2 ==1:\n",
        "      print(k)\n"
      ],
      "metadata": {
        "id": "2x4BZcqZc1Qx"
      },
      "execution_count": 7,
      "outputs": []
    },
    {
      "cell_type": "code",
      "source": [
        "odds()"
      ],
      "metadata": {
        "id": "eAuQ0CZygxRm",
        "outputId": "42ad83c5-3a87-4ca7-c55f-236be7904247",
        "colab": {
          "base_uri": "https://localhost:8080/",
          "height": 0
        }
      },
      "execution_count": 9,
      "outputs": [
        {
          "output_type": "stream",
          "name": "stdout",
          "text": [
            "7\n",
            "85\n",
            "63\n",
            "5\n"
          ]
        }
      ]
    },
    {
      "cell_type": "code",
      "source": [
        "def even(x):\n",
        "  for k in x:\n",
        "    if k % 2==0:\n",
        "      print(k)"
      ],
      "metadata": {
        "id": "-Gc1r-CRgzZu"
      },
      "execution_count": 14,
      "outputs": []
    },
    {
      "cell_type": "code",
      "source": [
        "even(x)"
      ],
      "metadata": {
        "id": "ERaeQOkxhE3-",
        "outputId": "015aaa40-3deb-48cc-e08e-1ecfbb64bea0",
        "colab": {
          "base_uri": "https://localhost:8080/",
          "height": 0
        }
      },
      "execution_count": 15,
      "outputs": [
        {
          "output_type": "stream",
          "name": "stdout",
          "text": [
            "4\n",
            "44\n",
            "32\n",
            "76\n",
            "54\n",
            "98\n"
          ]
        }
      ]
    },
    {
      "cell_type": "code",
      "source": [
        "string = input(\"Enter any string: \")\n",
        "\n",
        "newstr = string\n",
        "\n",
        "print(\"\\nRemoving vowels from the given string\");\n",
        "\n",
        "vowels = ('a', 'e', 'i', 'o', 'u');\n",
        "\n",
        "for x in string.lower():\n",
        "  if x in vowels:\n",
        "    newstr = newstr.replace(x,\"\");\n",
        "\n",
        "print(\"New string after successfully removed all the vowels:\");\n",
        "\n",
        "print(newstr);"
      ],
      "metadata": {
        "id": "gOtp6DEpoXjV",
        "outputId": "29a46d6f-34cb-4d23-fc5d-c171016adae4",
        "colab": {
          "base_uri": "https://localhost:8080/"
        }
      },
      "execution_count": 17,
      "outputs": [
        {
          "output_type": "stream",
          "name": "stdout",
          "text": [
            "Enter any string: Python is a high-level, general-purpose programming language. Its design philosophy emphasizes code readability with the use of significant indentation.\n",
            "\n",
            "Removing vowels from the given string\n",
            "New string after successfully removed all the vowels:\n",
            "Pythn s  hgh-lvl, gnrl-prps prgrmmng lngg. Its dsgn phlsphy mphszs cd rdblty wth th s f sgnfcnt ndnttn.\n"
          ]
        }
      ]
    },
    {
      "cell_type": "code",
      "source": [],
      "metadata": {
        "id": "ECtbAJ0Brv-A"
      },
      "execution_count": null,
      "outputs": []
    }
  ]
}