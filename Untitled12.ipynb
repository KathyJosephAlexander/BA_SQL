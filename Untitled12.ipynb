{
  "nbformat": 4,
  "nbformat_minor": 0,
  "metadata": {
    "colab": {
      "provenance": [],
      "authorship_tag": "ABX9TyOKSgV6l/Kg6+6dmWfmvHBS",
      "include_colab_link": true
    },
    "kernelspec": {
      "name": "python3",
      "display_name": "Python 3"
    },
    "language_info": {
      "name": "python"
    }
  },
  "cells": [
    {
      "cell_type": "markdown",
      "metadata": {
        "id": "view-in-github",
        "colab_type": "text"
      },
      "source": [
        "<a href=\"https://colab.research.google.com/github/KathyJosephAlexander/BA_SQL/blob/main/Untitled12.ipynb\" target=\"_parent\"><img src=\"https://colab.research.google.com/assets/colab-badge.svg\" alt=\"Open In Colab\"/></a>"
      ]
    },
    {
      "cell_type": "code",
      "execution_count": 1,
      "metadata": {
        "id": "IAr5mWfimlhM"
      },
      "outputs": [],
      "source": [
        "import pandas as pd"
      ]
    },
    {
      "cell_type": "code",
      "source": [
        "import numpy as np\n",
        "import matplotlib.pyplot as plt\n",
        "import pandas as pd"
      ],
      "metadata": {
        "id": "Dqyj1mn2m5AO"
      },
      "execution_count": 3,
      "outputs": []
    },
    {
      "cell_type": "code",
      "source": [
        "dataset = pd.read_csv('RELIANCE stock market dataset.csv')"
      ],
      "metadata": {
        "id": "WJbWJj5Wm9Td"
      },
      "execution_count": 4,
      "outputs": []
    },
    {
      "cell_type": "code",
      "source": [
        "x = dataset.iloc[0:5].values"
      ],
      "metadata": {
        "id": "FWcaxaLRnTMl"
      },
      "execution_count": 5,
      "outputs": []
    },
    {
      "cell_type": "code",
      "source": [
        "x"
      ],
      "metadata": {
        "colab": {
          "base_uri": "https://localhost:8080/"
        },
        "id": "0HCQiYqUo_a-",
        "outputId": "d0a911a2-008e-430e-c52d-e1228ecb03de"
      },
      "execution_count": 6,
      "outputs": [
        {
          "output_type": "execute_result",
          "data": {
            "text/plain": [
              "array([[1.00000000e+00, 8.40000000e+01, 8.56500020e+01, 7.87500000e+01,\n",
              "        8.38499980e+01, 8.38499980e+01, 1.13470000e+04],\n",
              "       [2.00000000e+00, 7.89000020e+01, 8.95500030e+01, 7.65000000e+01,\n",
              "        8.92500000e+01, 8.92500000e+01, 2.37270000e+04],\n",
              "       [3.00000000e+00, 8.86500020e+01, 9.18000030e+01, 8.70000000e+01,\n",
              "        9.05999980e+01, 9.05999980e+01, 9.68000000e+03],\n",
              "       [4.00000000e+00, 9.20999980e+01, 9.94499970e+01, 9.13649980e+01,\n",
              "        9.82500000e+01, 9.82500000e+01, 1.88600000e+04],\n",
              "       [5.00000000e+00, 9.88499980e+01, 1.00500000e+02, 9.07500000e+01,\n",
              "        1.00050003e+02, 1.00050003e+02, 1.26200000e+04]])"
            ]
          },
          "metadata": {},
          "execution_count": 6
        }
      ]
    },
    {
      "cell_type": "code",
      "source": [
        "x = dataset.iloc[:,0:1].values"
      ],
      "metadata": {
        "id": "oh6BsCu7pGr1"
      },
      "execution_count": 17,
      "outputs": []
    },
    {
      "cell_type": "code",
      "source": [
        "x"
      ],
      "metadata": {
        "colab": {
          "base_uri": "https://localhost:8080/"
        },
        "id": "_lxR3Qwop1T9",
        "outputId": "e3e20609-4d80-459c-82f6-a07ac1a5beb1"
      },
      "execution_count": 18,
      "outputs": [
        {
          "output_type": "execute_result",
          "data": {
            "text/plain": [
              "array([[  1.],\n",
              "       [  2.],\n",
              "       [  3.],\n",
              "       [  4.],\n",
              "       [  5.],\n",
              "       [  6.],\n",
              "       [  7.],\n",
              "       [  8.],\n",
              "       [  9.],\n",
              "       [ 10.],\n",
              "       [ 11.],\n",
              "       [ 12.],\n",
              "       [ 13.],\n",
              "       [ 14.],\n",
              "       [ 15.],\n",
              "       [ 16.],\n",
              "       [ 17.],\n",
              "       [ 18.],\n",
              "       [ 19.],\n",
              "       [ 20.],\n",
              "       [ 21.],\n",
              "       [ 22.],\n",
              "       [ 23.],\n",
              "       [ 24.],\n",
              "       [ 25.],\n",
              "       [ 26.],\n",
              "       [ 27.],\n",
              "       [ 28.],\n",
              "       [ 29.],\n",
              "       [ 30.],\n",
              "       [ 31.],\n",
              "       [ 32.],\n",
              "       [ 33.],\n",
              "       [ 34.],\n",
              "       [ 35.],\n",
              "       [ 36.],\n",
              "       [ 37.],\n",
              "       [ 38.],\n",
              "       [ 39.],\n",
              "       [ 40.],\n",
              "       [ 41.],\n",
              "       [ 42.],\n",
              "       [ 43.],\n",
              "       [ 44.],\n",
              "       [ 45.],\n",
              "       [ 46.],\n",
              "       [ 47.],\n",
              "       [ 48.],\n",
              "       [ 49.],\n",
              "       [ 50.],\n",
              "       [ 51.],\n",
              "       [ 52.],\n",
              "       [ 53.],\n",
              "       [ 54.],\n",
              "       [ 55.],\n",
              "       [ 56.],\n",
              "       [ 57.],\n",
              "       [ 58.],\n",
              "       [ 59.],\n",
              "       [ 60.],\n",
              "       [ 61.],\n",
              "       [ 62.],\n",
              "       [ 63.],\n",
              "       [ 64.],\n",
              "       [ 65.],\n",
              "       [ 66.],\n",
              "       [ 67.],\n",
              "       [ 68.],\n",
              "       [ 69.],\n",
              "       [ 70.],\n",
              "       [ 71.],\n",
              "       [ 72.],\n",
              "       [ 73.],\n",
              "       [ 74.],\n",
              "       [ 75.],\n",
              "       [ 76.],\n",
              "       [ 77.],\n",
              "       [ 78.],\n",
              "       [ 79.],\n",
              "       [ 80.],\n",
              "       [ 81.],\n",
              "       [ 82.],\n",
              "       [ 83.],\n",
              "       [ 84.],\n",
              "       [ 85.],\n",
              "       [ 86.],\n",
              "       [ 87.],\n",
              "       [ 88.],\n",
              "       [ 89.],\n",
              "       [ 90.],\n",
              "       [ 91.],\n",
              "       [ 92.],\n",
              "       [ 93.],\n",
              "       [ 94.],\n",
              "       [ 95.],\n",
              "       [ 96.],\n",
              "       [ 97.],\n",
              "       [ 98.],\n",
              "       [ 99.],\n",
              "       [100.],\n",
              "       [101.],\n",
              "       [102.],\n",
              "       [103.],\n",
              "       [104.],\n",
              "       [105.],\n",
              "       [106.],\n",
              "       [107.],\n",
              "       [108.],\n",
              "       [109.],\n",
              "       [110.],\n",
              "       [111.],\n",
              "       [112.],\n",
              "       [113.],\n",
              "       [114.],\n",
              "       [115.],\n",
              "       [116.],\n",
              "       [117.],\n",
              "       [118.],\n",
              "       [119.],\n",
              "       [120.],\n",
              "       [121.],\n",
              "       [122.],\n",
              "       [123.],\n",
              "       [124.],\n",
              "       [125.],\n",
              "       [126.],\n",
              "       [127.],\n",
              "       [128.],\n",
              "       [129.],\n",
              "       [130.],\n",
              "       [131.],\n",
              "       [132.],\n",
              "       [133.],\n",
              "       [134.],\n",
              "       [135.],\n",
              "       [136.],\n",
              "       [137.],\n",
              "       [138.],\n",
              "       [139.],\n",
              "       [140.],\n",
              "       [141.],\n",
              "       [142.],\n",
              "       [143.],\n",
              "       [144.],\n",
              "       [145.],\n",
              "       [146.],\n",
              "       [147.],\n",
              "       [148.],\n",
              "       [149.],\n",
              "       [150.],\n",
              "       [151.],\n",
              "       [152.],\n",
              "       [153.],\n",
              "       [154.],\n",
              "       [155.],\n",
              "       [156.],\n",
              "       [157.],\n",
              "       [158.],\n",
              "       [159.],\n",
              "       [160.],\n",
              "       [161.],\n",
              "       [162.],\n",
              "       [163.],\n",
              "       [164.],\n",
              "       [165.],\n",
              "       [166.],\n",
              "       [167.],\n",
              "       [168.],\n",
              "       [169.],\n",
              "       [170.],\n",
              "       [171.],\n",
              "       [172.],\n",
              "       [173.],\n",
              "       [174.],\n",
              "       [175.],\n",
              "       [176.],\n",
              "       [177.],\n",
              "       [178.],\n",
              "       [179.],\n",
              "       [180.],\n",
              "       [181.],\n",
              "       [182.],\n",
              "       [183.],\n",
              "       [184.],\n",
              "       [185.],\n",
              "       [186.],\n",
              "       [187.],\n",
              "       [188.],\n",
              "       [189.],\n",
              "       [190.],\n",
              "       [191.],\n",
              "       [192.],\n",
              "       [193.],\n",
              "       [194.],\n",
              "       [195.],\n",
              "       [196.],\n",
              "       [197.],\n",
              "       [198.],\n",
              "       [199.],\n",
              "       [200.],\n",
              "       [201.],\n",
              "       [202.],\n",
              "       [203.],\n",
              "       [204.],\n",
              "       [205.],\n",
              "       [206.],\n",
              "       [207.],\n",
              "       [208.],\n",
              "       [209.],\n",
              "       [210.],\n",
              "       [211.],\n",
              "       [212.],\n",
              "       [213.],\n",
              "       [214.],\n",
              "       [215.],\n",
              "       [216.],\n",
              "       [217.],\n",
              "       [218.],\n",
              "       [219.],\n",
              "       [220.],\n",
              "       [221.],\n",
              "       [222.],\n",
              "       [223.],\n",
              "       [224.],\n",
              "       [225.],\n",
              "       [226.],\n",
              "       [227.],\n",
              "       [228.],\n",
              "       [229.],\n",
              "       [230.],\n",
              "       [231.],\n",
              "       [232.],\n",
              "       [233.],\n",
              "       [234.],\n",
              "       [235.],\n",
              "       [236.],\n",
              "       [237.],\n",
              "       [238.],\n",
              "       [239.],\n",
              "       [240.],\n",
              "       [241.],\n",
              "       [242.],\n",
              "       [243.],\n",
              "       [244.],\n",
              "       [245.],\n",
              "       [246.],\n",
              "       [247.],\n",
              "       [248.],\n",
              "       [249.],\n",
              "       [250.],\n",
              "       [251.],\n",
              "       [252.]])"
            ]
          },
          "metadata": {},
          "execution_count": 18
        }
      ]
    },
    {
      "cell_type": "code",
      "source": [
        "y = dataset.iloc[:,1].values"
      ],
      "metadata": {
        "id": "wp3oH41rp1yu"
      },
      "execution_count": 10,
      "outputs": []
    },
    {
      "cell_type": "code",
      "source": [
        "y"
      ],
      "metadata": {
        "colab": {
          "base_uri": "https://localhost:8080/"
        },
        "id": "LS50mo6st_KB",
        "outputId": "e53fe735-2e57-4b0f-fbe5-b7b8a5f98224"
      },
      "execution_count": 11,
      "outputs": [
        {
          "output_type": "execute_result",
          "data": {
            "text/plain": [
              "array([ 84.      ,  78.900002,  88.650002,  92.099998,  98.849998,\n",
              "       101.699997, 106.5     ,  97.199997,  91.949997,  81.      ,\n",
              "        82.050003,  84.599998,  92.25    ,  84.75    ,  78.75    ,\n",
              "        83.550003,  79.5     ,  90.      ,  88.199997,  84.150002,\n",
              "        85.050003,  80.400002,  78.      ,  70.949997,  68.25    ,\n",
              "        68.400002,  64.5     ,  64.199997,  61.200001,  60.900002,\n",
              "        60.450001,  61.200001,  57.150002,  53.849998,  56.700001,\n",
              "        50.099998,  50.400002,  49.950001,  46.650002,  47.849998,\n",
              "        48.75    ,  45.75    ,  45.      ,  46.049999,  45.      ,\n",
              "        45.75    ,  43.950001,  41.25    ,  39.      ,  39.      ,\n",
              "        40.650002,  38.849998,  38.25    ,  37.950001,  36.150002,\n",
              "        31.65    ,  33.299999,  35.099998,  36.      ,  34.049999,\n",
              "        34.5     ,  35.549999,  33.      ,  32.849998,  30.6     ,\n",
              "        32.700001,  34.799999,  37.5     ,  38.099998,  36.599998,\n",
              "        38.25    ,  37.049999,  36.75    ,  36.299999,  37.349998,\n",
              "        39.900002,  44.099998,  42.299999,  33.900002,  35.400002,\n",
              "        32.549999,  34.950001,  34.349998,  40.349998,  38.25    ,\n",
              "        35.775002,  36.150002,  33.720001,  33.      ,  31.049999,\n",
              "        30.75    ,  31.5     ,  30.75    ,  28.200001,  27.9     ,\n",
              "        25.200001,  22.65    ,  22.200001,  20.85    ,  18.450001,\n",
              "        17.700001,  16.65    ,  16.799999,  16.200001,  17.1     ,\n",
              "        15.75    ,  15.45    ,  15.75    ,  14.7     ,  14.1     ,\n",
              "        12.42    ,  13.755   ,  14.1     ,  13.755   ,  12.885   ,\n",
              "        14.28    ,  13.5     ,  13.8     ,  13.5     ,  14.835   ,\n",
              "        14.82    ,  13.35    ,  13.2     ,  13.8     ,  13.2     ,\n",
              "        12.3     ,  11.55    ,  10.95    ,  11.055   ,  11.1     ,\n",
              "        11.67    ,  11.685   ,  12.3     ,  12.585   ,  12.06    ,\n",
              "        11.19    ,  11.1     ,  11.25    ,  11.4     ,  12.585   ,\n",
              "        12.6     ,  14.7     ,  14.55    ,  14.1     ,  12.93    ,\n",
              "        11.985   ,  11.55    ,  11.4     ,  12.45    ,  12.45    ,\n",
              "        11.835   ,  12.3     ,  12.075   ,  11.7     ,  12.54    ,\n",
              "        12.      ,  12.27    ,  11.85    ,  11.655   ,  11.49    ,\n",
              "        12.      ,  11.1     ,  11.25    ,  11.115   ,  10.725   ,\n",
              "        11.1     ,  10.5     ,   9.96    ,  10.575   ,  10.05    ,\n",
              "        10.455   ,  10.125   ,   9.75    ,  10.05    ,   9.45    ,\n",
              "         8.85    ,   8.88    ,   9.      ,   9.15    ,   9.      ,\n",
              "         8.745   ,   9.      ,   9.3     ,  10.155   ,  10.8     ,\n",
              "         9.75    ,   9.84    ,   9.69    ,   9.3     ,   8.85    ,\n",
              "         8.73    ,   8.55    ,   9.15    ,   8.925   ,   9.      ,\n",
              "         9.      ,   9.075   ,  10.62    ,  10.5     ,  10.14    ,\n",
              "        10.65    ,  10.185   ,   9.765   ,   9.87    ,   9.345   ,\n",
              "         9.33    ,   9.6     ,   9.      ,   8.565   ,   8.85    ,\n",
              "         9.      ,   8.97    ,   9.15    ,   8.73    ,   8.4     ,\n",
              "         8.4     ,   8.79    ,   8.265   ,   8.415   ,   7.68    ,\n",
              "         8.1     ,   7.98    ,   8.25    ,   8.25    ,   8.52    ,\n",
              "         9.6     ,   9.15    ,   9.45    ,   9.45    ,   9.225   ,\n",
              "        10.2     ,  10.2     ,   9.915   ,   9.975   ,  10.5     ,\n",
              "         9.615   ,   9.63    ,   9.6     ,   9.42    ,  10.5     ,\n",
              "        10.35    ,   9.885   ,   9.6     ,   8.61    ,   8.55    ,\n",
              "         8.49    ,   8.895   ,   8.595   ,   8.685   ,   8.175   ,\n",
              "         6.705   ,   5.62    ])"
            ]
          },
          "metadata": {},
          "execution_count": 11
        }
      ]
    },
    {
      "cell_type": "code",
      "source": [
        "from sklearn.linear_model import LinearRegression\n",
        "regressor = LinearRegression()\n",
        "regressor.fit(x,y)"
      ],
      "metadata": {
        "colab": {
          "base_uri": "https://localhost:8080/"
        },
        "id": "R_hHyWikuDbi",
        "outputId": "6ad40c11-dd37-4587-9b0e-495a3a2556c2"
      },
      "execution_count": 12,
      "outputs": [
        {
          "output_type": "execute_result",
          "data": {
            "text/plain": [
              "LinearRegression()"
            ]
          },
          "metadata": {},
          "execution_count": 12
        }
      ]
    },
    {
      "cell_type": "code",
      "source": [
        "y_pred = regressor.predict(x)"
      ],
      "metadata": {
        "id": "BOtfs1j0v86O"
      },
      "execution_count": 14,
      "outputs": []
    },
    {
      "cell_type": "code",
      "source": [
        "plt.scatter(x,y,color = 'red')\n",
        "plt.plot(x, y_pred, color ='blue')\n",
        "plt.xlabel('Package')\n",
        "plt.ylabel('Sales')\n",
        "plt.show()"
      ],
      "metadata": {
        "colab": {
          "base_uri": "https://localhost:8080/",
          "height": 279
        },
        "id": "4e016EdmwGYO",
        "outputId": "f29fafec-dd41-4d52-c8ad-f3eb8e0549c4"
      },
      "execution_count": 20,
      "outputs": [
        {
          "output_type": "display_data",
          "data": {
            "text/plain": [
              "<Figure size 432x288 with 1 Axes>"
            ],
            "image/png": "[encoded data removed]"
          },
          "metadata": {
            "needs_background": "light"
          }
        }
      ]
    },
    {
      "cell_type": "code",
      "source": [],
      "metadata": {
        "id": "zwY25xzxxVp0"
      },
      "execution_count": null,
      "outputs": []
    }
  ]
}